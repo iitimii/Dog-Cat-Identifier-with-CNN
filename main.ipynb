{
  "cells": [
    {
      "cell_type": "code",
      "execution_count": null,
      "metadata": {
        "id": "tBWJH9ObyCMB"
      },
      "outputs": [],
      "source": [
        "import tensorflow as tf\n",
        "import tensorflow.keras.layers as tfl"
      ]
    },
    {
      "cell_type": "code",
      "execution_count": null,
      "metadata": {
        "id": "6vDniUXAyCMF"
      },
      "outputs": [],
      "source": [
        "# import zipfile\n",
        "# data_dir = '/content/drive/MyDrive/dogs_and_cats.zip'\n",
        "# zipfile.ZipFile(data_dir, 'r').extractall('/content/dogs_and_cats')"
      ]
    },
    {
      "cell_type": "code",
      "execution_count": null,
      "metadata": {},
      "outputs": [],
      "source": []
    },
    {
      "cell_type": "code",
      "execution_count": null,
      "metadata": {
        "colab": {
          "base_uri": "https://localhost:8080/"
        },
        "id": "jLb2kRIoyCMF",
        "outputId": "f09d549a-23f0-4037-ae73-19795f1dda37"
      },
      "outputs": [],
      "source": [
        "res = 128\n",
        "train_dir = '/content/dogs_and_cats/dataset/training_set'\n",
        "val_dir = '/content/dogs_and_cats/dataset/test_set'\n",
        "data_gen = tf.keras.preprocessing.image.ImageDataGenerator(rescale=1/255)\n",
        "train_data = data_gen.flow_from_directory(train_dir, target_size=(res, res), class_mode='binary')\n",
        "val_data = data_gen.flow_from_directory(val_dir, target_size=(res, res), class_mode='binary')"
      ]
    },
    {
      "cell_type": "code",
      "execution_count": null,
      "metadata": {
        "id": "Z78a0ezxyCMI"
      },
      "outputs": [],
      "source": [
        "class mycallback(tf.keras.callbacks.Callback):\n",
        "    def on_epoch_end(self, epoch, logs={}):\n",
        "        if logs.get('accuracy')>0.95:\n",
        "            print('Accuracy 85 reached')\n",
        "            self.model.stop_training = True\n",
        "\n",
        "callback = mycallback()"
      ]
    },
    {
      "cell_type": "code",
      "execution_count": null,
      "metadata": {
        "id": "OWu1Kw0iyCMJ"
      },
      "outputs": [],
      "source": [
        "inn = tf.keras.Input(shape=(res,res,3))\n",
        "Z1 = tfl.Conv2D(32, (3,3))(inn)\n",
        "A1 = tfl.ReLU()(Z1)\n",
        "P1 = tfl.MaxPool2D((2,2))(A1)\n",
        "Z2 = tfl.Conv2D(32, (3,3))(P1)\n",
        "A2 = tfl.ReLU()(Z2)\n",
        "P2 = tfl.MaxPool2D((2,2))(A2)\n",
        "Z3 = tfl.Conv2D(64, (3,3))(P2)\n",
        "A3 = tfl.ReLU()(Z3)\n",
        "P3 = tfl.MaxPool2D((2,2))(A3)\n",
        "F = tfl.Flatten()(P3)\n",
        "D1 = tfl.Dense(512, activation='relu')(F)\n",
        "D2 = tfl.Dense(128, activation='relu')(D1)\n",
        "D3 = tfl.Dense(64, activation='relu')(D2)\n",
        "out = tfl.Dense(1, activation='sigmoid')(D3)\n",
        "\n",
        "model = tf.keras.Model(inputs=inn, outputs=out)\n",
        "\n",
        "model.compile(optimizer=tf.keras.optimizers.Adam(), loss='binary_crossentropy', metrics=['accuracy'])\n"
      ]
    },
    {
      "cell_type": "code",
      "execution_count": null,
      "metadata": {
        "colab": {
          "base_uri": "https://localhost:8080/"
        },
        "id": "sSCrnAP1yCMK",
        "outputId": "1dd8e103-638d-4cab-a695-46a7141e3195"
      },
      "outputs": [],
      "source": [
        "model.summary()"
      ]
    },
    {
      "cell_type": "code",
      "execution_count": null,
      "metadata": {
        "colab": {
          "base_uri": "https://localhost:8080/"
        },
        "id": "jtMQLouDyCMK",
        "outputId": "3fb61737-5c5e-4171-8bcb-4c3b3cd89ca1"
      },
      "outputs": [],
      "source": [
        "history = model.fit(train_data, batch_size=64, epochs=100, callbacks=[callback], validation_data=val_data)"
      ]
    },
    {
      "cell_type": "code",
      "execution_count": null,
      "metadata": {},
      "outputs": [],
      "source": [
        "# model.save_weights('weights2.h5')"
      ]
    }
  ],
  "metadata": {
    "accelerator": "GPU",
    "colab": {
      "collapsed_sections": [],
      "provenance": []
    },
    "gpuClass": "standard",
    "kernelspec": {
      "display_name": "Python 3.10.8 64-bit",
      "language": "python",
      "name": "python3"
    },
    "language_info": {
      "codemirror_mode": {
        "name": "ipython",
        "version": 3
      },
      "file_extension": ".py",
      "mimetype": "text/x-python",
      "name": "python",
      "nbconvert_exporter": "python",
      "pygments_lexer": "ipython3",
      "version": "3.10.8"
    },
    "orig_nbformat": 4,
    "vscode": {
      "interpreter": {
        "hash": "947f030b3e678118fc438144c1e47ca5c23949e6feee86165ca58c1240ce2eba"
      }
    }
  },
  "nbformat": 4,
  "nbformat_minor": 0
}
