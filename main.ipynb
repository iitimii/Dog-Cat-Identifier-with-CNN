{
  "cells": [
    {
      "cell_type": "code",
      "execution_count": 38,
      "metadata": {
        "id": "tBWJH9ObyCMB"
      },
      "outputs": [],
      "source": [
        "import tensorflow as tf\n",
        "import tensorflow.keras.layers as tfl"
      ]
    },
    {
      "cell_type": "code",
      "execution_count": 39,
      "metadata": {
        "id": "6vDniUXAyCMF"
      },
      "outputs": [],
      "source": [
        "# import zipfile\n",
        "# data_dir = '/content/drive/MyDrive/dogs_and_cats.zip'\n",
        "# zipfile.ZipFile(data_dir, 'r').extractall('/content/dogs_and_cats')"
      ]
    },
    {
      "cell_type": "code",
      "execution_count": 40,
      "metadata": {
        "colab": {
          "base_uri": "https://localhost:8080/"
        },
        "id": "jLb2kRIoyCMF",
        "outputId": "f09d549a-23f0-4037-ae73-19795f1dda37"
      },
      "outputs": [
        {
          "name": "stdout",
          "output_type": "stream",
          "text": [
            "Found 8000 images belonging to 2 classes.\n",
            "Found 2000 images belonging to 2 classes.\n"
          ]
        }
      ],
      "source": [
        "res = 128\n",
        "train_dir = '/content/dogs_and_cats/dataset/training_set'\n",
        "val_dir = '/content/dogs_and_cats/dataset/test_set'\n",
        "data_gen = tf.keras.preprocessing.image.ImageDataGenerator(rescale=1/255)\n",
        "train_data = data_gen.flow_from_directory(train_dir, target_size=(res, res), class_mode='binary')\n",
        "val_data = data_gen.flow_from_directory(val_dir, target_size=(res, res), class_mode='binary')"
      ]
    },
    {
      "cell_type": "code",
      "execution_count": 41,
      "metadata": {
        "id": "Z78a0ezxyCMI"
      },
      "outputs": [],
      "source": [
        "class mycallback(tf.keras.callbacks.Callback):\n",
        "    def on_epoch_end(self, epoch, logs={}):\n",
        "        if logs.get('accuracy')>0.95:\n",
        "            print('Accuracy 85 reached')\n",
        "            self.model.stop_training = True\n",
        "\n",
        "callback = mycallback()"
      ]
    },
    {
      "cell_type": "code",
      "execution_count": 42,
      "metadata": {
        "id": "OWu1Kw0iyCMJ"
      },
      "outputs": [],
      "source": [
        "inn = tf.keras.Input(shape=(res,res,3))\n",
        "Z1 = tfl.Conv2D(32, (3,3))(inn)\n",
        "A1 = tfl.ReLU()(Z1)\n",
        "P1 = tfl.MaxPool2D((2,2))(A1)\n",
        "Z2 = tfl.Conv2D(32, (3,3))(P1)\n",
        "A2 = tfl.ReLU()(Z2)\n",
        "P2 = tfl.MaxPool2D((2,2))(A2)\n",
        "Z3 = tfl.Conv2D(64, (3,3))(P2)\n",
        "A3 = tfl.ReLU()(Z3)\n",
        "P3 = tfl.MaxPool2D((2,2))(A3)\n",
        "F = tfl.Flatten()(P3)\n",
        "D1 = tfl.Dense(512, activation='relu')(F)\n",
        "D2 = tfl.Dense(128, activation='relu')(D1)\n",
        "D3 = tfl.Dense(64, activation='relu')(D2)\n",
        "out = tfl.Dense(1, activation='sigmoid')(D3)\n",
        "\n",
        "model = tf.keras.Model(inputs=inn, outputs=out)\n",
        "\n",
        "model.compile(optimizer=tf.keras.optimizers.Adam(), loss='binary_crossentropy', metrics=['accuracy'])\n"
      ]
    },
    {
      "cell_type": "code",
      "execution_count": 43,
      "metadata": {
        "colab": {
          "base_uri": "https://localhost:8080/"
        },
        "id": "sSCrnAP1yCMK",
        "outputId": "1dd8e103-638d-4cab-a695-46a7141e3195"
      },
      "outputs": [
        {
          "name": "stdout",
          "output_type": "stream",
          "text": [
            "Model: \"model_4\"\n",
            "_________________________________________________________________\n",
            " Layer (type)                Output Shape              Param #   \n",
            "=================================================================\n",
            " input_5 (InputLayer)        [(None, 128, 128, 3)]     0         \n",
            "                                                                 \n",
            " conv2d_12 (Conv2D)          (None, 126, 126, 32)      896       \n",
            "                                                                 \n",
            " re_lu_12 (ReLU)             (None, 126, 126, 32)      0         \n",
            "                                                                 \n",
            " max_pooling2d_12 (MaxPoolin  (None, 63, 63, 32)       0         \n",
            " g2D)                                                            \n",
            "                                                                 \n",
            " conv2d_13 (Conv2D)          (None, 61, 61, 32)        9248      \n",
            "                                                                 \n",
            " re_lu_13 (ReLU)             (None, 61, 61, 32)        0         \n",
            "                                                                 \n",
            " max_pooling2d_13 (MaxPoolin  (None, 30, 30, 32)       0         \n",
            " g2D)                                                            \n",
            "                                                                 \n",
            " conv2d_14 (Conv2D)          (None, 28, 28, 64)        18496     \n",
            "                                                                 \n",
            " re_lu_14 (ReLU)             (None, 28, 28, 64)        0         \n",
            "                                                                 \n",
            " max_pooling2d_14 (MaxPoolin  (None, 14, 14, 64)       0         \n",
            " g2D)                                                            \n",
            "                                                                 \n",
            " flatten_4 (Flatten)         (None, 12544)             0         \n",
            "                                                                 \n",
            " dense_10 (Dense)            (None, 512)               6423040   \n",
            "                                                                 \n",
            " dense_11 (Dense)            (None, 128)               65664     \n",
            "                                                                 \n",
            " dense_12 (Dense)            (None, 64)                8256      \n",
            "                                                                 \n",
            " dense_13 (Dense)            (None, 1)                 65        \n",
            "                                                                 \n",
            "=================================================================\n",
            "Total params: 6,525,665\n",
            "Trainable params: 6,525,665\n",
            "Non-trainable params: 0\n",
            "_________________________________________________________________\n"
          ]
        }
      ],
      "source": [
        "model.summary()"
      ]
    },
    {
      "cell_type": "code",
      "execution_count": 44,
      "metadata": {
        "colab": {
          "base_uri": "https://localhost:8080/"
        },
        "id": "jtMQLouDyCMK",
        "outputId": "3fb61737-5c5e-4171-8bcb-4c3b3cd89ca1"
      },
      "outputs": [
        {
          "name": "stdout",
          "output_type": "stream",
          "text": [
            "Epoch 1/100\n",
            "250/250 [==============================] - 27s 108ms/step - loss: 0.6463 - accuracy: 0.6091 - val_loss: 0.5688 - val_accuracy: 0.7050\n",
            "Epoch 2/100\n",
            "250/250 [==============================] - 27s 108ms/step - loss: 0.5437 - accuracy: 0.7234 - val_loss: 0.5530 - val_accuracy: 0.7100\n",
            "Epoch 3/100\n",
            "250/250 [==============================] - 26s 106ms/step - loss: 0.4631 - accuracy: 0.7803 - val_loss: 0.4936 - val_accuracy: 0.7650\n",
            "Epoch 4/100\n",
            "250/250 [==============================] - 27s 106ms/step - loss: 0.3879 - accuracy: 0.8282 - val_loss: 0.4897 - val_accuracy: 0.7745\n",
            "Epoch 5/100\n",
            "250/250 [==============================] - 27s 107ms/step - loss: 0.3160 - accuracy: 0.8622 - val_loss: 0.5285 - val_accuracy: 0.7870\n",
            "Epoch 6/100\n",
            "250/250 [==============================] - 28s 113ms/step - loss: 0.1938 - accuracy: 0.9227 - val_loss: 0.7032 - val_accuracy: 0.7500\n",
            "Epoch 7/100\n",
            "250/250 [==============================] - ETA: 0s - loss: 0.1060 - accuracy: 0.9567Accuracy 85 reached\n",
            "250/250 [==============================] - 26s 106ms/step - loss: 0.1060 - accuracy: 0.9567 - val_loss: 1.0248 - val_accuracy: 0.7585\n"
          ]
        }
      ],
      "source": [
        "history = model.fit(train_data, batch_size=64, epochs=100, callbacks=[callback], validation_data=val_data)"
      ]
    },
    {
      "cell_type": "code",
      "execution_count": 45,
      "metadata": {
        "id": "w4wiF2KNNJ5s"
      },
      "outputs": [],
      "source": [
        "# model.save('/content/drive/MyDrive/dog_vs_cat_cnn3.h5')"
      ]
    },
    {
      "cell_type": "code",
      "execution_count": 45,
      "metadata": {
        "id": "qxlSCUTJP3N2"
      },
      "outputs": [],
      "source": []
    }
  ],
  "metadata": {
    "accelerator": "GPU",
    "colab": {
      "collapsed_sections": [],
      "provenance": []
    },
    "gpuClass": "standard",
    "kernelspec": {
      "display_name": "Python 3.10.8 64-bit",
      "language": "python",
      "name": "python3"
    },
    "language_info": {
      "codemirror_mode": {
        "name": "ipython",
        "version": 3
      },
      "file_extension": ".py",
      "mimetype": "text/x-python",
      "name": "python",
      "nbconvert_exporter": "python",
      "pygments_lexer": "ipython3",
      "version": "3.10.8"
    },
    "orig_nbformat": 4,
    "vscode": {
      "interpreter": {
        "hash": "947f030b3e678118fc438144c1e47ca5c23949e6feee86165ca58c1240ce2eba"
      }
    }
  },
  "nbformat": 4,
  "nbformat_minor": 0
}
